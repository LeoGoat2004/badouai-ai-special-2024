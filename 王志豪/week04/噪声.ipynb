{
 "cells": [
  {
   "cell_type": "code",
   "execution_count": 1,
   "id": "146a6f11-5168-456c-9edf-a3a0412d7003",
   "metadata": {},
   "outputs": [],
   "source": [
    "import numpy as np\n",
    "import cv2\n",
    "import random\n",
    "from skimage import util"
   ]
  },
  {
   "cell_type": "code",
   "execution_count": 2,
   "id": "061cbb70-4978-4c1b-90a3-1c3d2eb50feb",
   "metadata": {},
   "outputs": [],
   "source": [
    "# 高斯噪声\n",
    "def Gaussian_noise(src, means, sigma, percentage):\n",
    "    noise_img = src;\n",
    "    noise_num = int(percentage*src.shape[0]*src.shape[1]) # 高0，宽1\n",
    "    for i in range(noise_num):\n",
    "        rand_h = random.randint(0, src.shape[0] - 1)\n",
    "        rand_w = random.randint(0, src.shape[1] - 1)\n",
    "        noise_img[rand_h, rand_w] += random.gauss(means,sigma)\n",
    "        noise_img[rand_h, rand_w] = np.clip(noise_img[rand_h, rand_w], 0, 255)\n",
    "    return noise_img"
   ]
  },
  {
   "cell_type": "code",
   "execution_count": 3,
   "id": "cd673419-e4a0-4dd1-89dc-2556ed86a4f4",
   "metadata": {},
   "outputs": [],
   "source": [
    "# 椒盐噪声\n",
    "def Salt_pepper_noise(src, percentage):\n",
    "    noise_img = src    \n",
    "    noise_num = int(percentage*src.shape[0]*src.shape[1])    \n",
    "    for i in range(noise_num): \n",
    "\t    rand_h = random.randint(0, src.shape[0]-1)       \n",
    "\t    rand_w = random.randint(0, src.shape[1]-1)     \n",
    "\t    if random.random() <= 0.5:           \n",
    "\t    \tnoise_img[rand_h, rand_w] = 0 # 黑点       \n",
    "\t    else:            \n",
    "\t    \tnoise_img[rand_h ,rand_w] = 255 # 白点   \n",
    "    return noise_img"
   ]
  },
  {
   "cell_type": "code",
   "execution_count": 4,
   "id": "2ab4c922-ad6a-4f1a-ad01-07bc82998a62",
   "metadata": {},
   "outputs": [
    {
     "data": {
      "text/plain": [
       "-1"
      ]
     },
     "execution_count": 4,
     "metadata": {},
     "output_type": "execute_result"
    }
   ],
   "source": [
    "img = cv2.imread(\"lenna.png\", 0) # 以灰度模式读取图像\n",
    "img_gaussian = Gaussian_noise(img, 10, 32, 0.8)\n",
    "img = cv2.imread(\"lenna.png\", 0)\n",
    "img_salt_pepper = Salt_pepper_noise(img, 0.5)\n",
    "img = cv2.imread(\"lenna.png\", 0)\n",
    "cv2.imshow('source',img)\n",
    "cv2.imshow('gaussion',img_gaussian)\n",
    "cv2.imshow('salt and pepper',img_salt_pepper)\n",
    "cv2.waitKey(0)"
   ]
  },
  {
   "cell_type": "code",
   "execution_count": 5,
   "id": "d6fa3c66-9ebc-4450-991f-e926a7d03094",
   "metadata": {},
   "outputs": [
    {
     "data": {
      "text/plain": [
       "-1"
      ]
     },
     "execution_count": 5,
     "metadata": {},
     "output_type": "execute_result"
    }
   ],
   "source": [
    "# 噪声接口调用\n",
    "'''\n",
    "def random_noise(image, mode='gaussian', seed=None, clip=True, **kwargs):\n",
    "功能：为浮点型图片添加各种随机噪声\n",
    "参数：\n",
    "image：输入图片（将会被转换成浮点型），ndarray型\n",
    "mode： 可选择，str型，表示要添加的噪声类型\n",
    "\tgaussian：高斯噪声\n",
    "\tlocalvar：高斯分布的加性噪声，在“图像”的每个点处具有指定的局部方差。\n",
    "\tpoisson：泊松噪声\n",
    "\tsalt：盐噪声，随机将像素值变成1\n",
    "\tpepper：椒噪声，随机将像素值变成0或-1，取决于矩阵的值是否带符号\n",
    "\ts&p：椒盐噪声\n",
    "\tspeckle：均匀噪声（均值mean方差variance），out=image+n*image\n",
    "seed： 可选的，int型，如果选择的话，在生成噪声前会先设置随机种子以避免伪随机\n",
    "clip： 可选的，bool型，如果是True，在添加均值，泊松以及高斯噪声后，会将图片的数据裁剪到合适范围内。如果是False，则输出矩阵的值可能会超出[-1,1]\n",
    "mean： 可选的，float型，高斯噪声和均值噪声中的mean参数，默认值=0\n",
    "var：  可选的，float型，高斯噪声和均值噪声中的方差，默认值=0.01（注：不是标准差）\n",
    "local_vars：可选的，ndarry型，用于定义每个像素点的局部方差，在localvar中使用\n",
    "amount： 可选的，float型，是椒盐噪声所占比例，默认值=0.05\n",
    "salt_vs_pepper：可选的，float型，椒盐噪声中椒盐比例，值越大表示盐噪声越多，默认值=0.5，即椒盐等量\n",
    "--------\n",
    "返回值：ndarry型，且值在[0,1]或者[-1,1]之间，取决于是否是有符号数\n",
    "'''\n",
    "img = cv2.imread(\"lenna.png\")\n",
    "img_gaussian = util.random_noise(img, mode = 'gaussian')\n",
    "\n",
    "cv2.imshow(\"source\", img)\n",
    "cv2.imshow(\"gaussian\", img_gaussian)\n",
    "cv2.waitKey(0)"
   ]
  }
 ],
 "metadata": {
  "kernelspec": {
   "display_name": "pytorch",
   "language": "python",
   "name": "pytorch"
  },
  "language_info": {
   "codemirror_mode": {
    "name": "ipython",
    "version": 3
   },
   "file_extension": ".py",
   "mimetype": "text/x-python",
   "name": "python",
   "nbconvert_exporter": "python",
   "pygments_lexer": "ipython3",
   "version": "3.9.18"
  }
 },
 "nbformat": 4,
 "nbformat_minor": 5
}
